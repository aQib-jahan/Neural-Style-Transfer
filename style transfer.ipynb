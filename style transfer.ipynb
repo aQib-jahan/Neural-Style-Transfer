{
 "cells": [
  {
   "cell_type": "markdown",
   "metadata": {},
   "source": [
    "# **Import Packages**"
   ]
  },
  {
   "cell_type": "code",
   "execution_count": null,
   "metadata": {},
   "outputs": [],
   "source": [
    "import torch\n",
    "import torch.optim as optim\n",
    "from torchvision import transforms, models\n",
    "from PIL import Image\n",
    "import matplotlib.pyplot as plt\n",
    "import numpy as np"
   ]
  },
  {
   "cell_type": "code",
   "execution_count": null,
   "metadata": {},
   "outputs": [],
   "source": [
    "device = torch.device(\"cuda\" if torch.cuda.is_available() else \"cpu\")"
   ]
  },
  {
   "cell_type": "markdown",
   "metadata": {},
   "source": [
    "# **Transfer model**"
   ]
  },
  {
   "cell_type": "code",
   "execution_count": null,
   "metadata": {},
   "outputs": [],
   "source": [
    "vgg = models.vgg19(pretrained = True).features\n",
    "\n",
    "for param in vgg.parameters():\n",
    "  param.requires_grad_(False)"
   ]
  },
  {
   "cell_type": "code",
   "execution_count": null,
   "metadata": {},
   "outputs": [],
   "source": [
    "vgg.to(device)"
   ]
  },
  {
   "cell_type": "markdown",
   "metadata": {},
   "source": [
    "# **Load image**"
   ]
  },
  {
   "cell_type": "code",
   "execution_count": null,
   "metadata": {},
   "outputs": [],
   "source": [
    "def load_image(img_path, max_size=400, img_shape=None):\n",
    "\n",
    "  image = Image.open(img_path).convert('RGB')\n",
    "\n",
    "  if max(image.size) > max_size:\n",
    "    size = max_size\n",
    "  else:\n",
    "    size = max(image.size)\n",
    "\n",
    "  if img_shape is not None:\n",
    "    size = img_shape\n",
    "\n",
    "  transform = transforms.Compose([\n",
    "                                  transforms.Resize(size),\n",
    "                                  transforms.ToTensor(),\n",
    "                                  transforms.Normalize((0.5, 0.5, 0.5), (0.5, 0.5, 0.5))\n",
    "  ])\n",
    "\n",
    "  image = transform(image).unsqueeze(0)\n",
    "\n",
    "  return image"
   ]
  },
  {
   "cell_type": "code",
   "execution_count": null,
   "metadata": {},
   "outputs": [],
   "source": [
    "content = load_image('../MonaLisa.jpg').to(device)\n",
    "style = load_image('../StarryNight.jpg', img_shape=content.shape[-2:]).to(device)"
   ]
  },
  {
   "cell_type": "markdown",
   "metadata": {},
   "source": [
    "# **Conversion of tensor to numpy**"
   ]
  },
  {
   "cell_type": "code",
   "execution_count": null,
   "metadata": {},
   "outputs": [],
   "source": [
    "def im_convert(tensor):\n",
    "  img = tensor.to(\"cpu\").clone().detach()\n",
    "  img = img.numpy().squeeze()\n",
    "  img = img.transpose(1,2,0)\n",
    "  img = img * np.array((0.5, 0.5, 0.5)) + np.array((0.5, 0.5, 0.5))\n",
    "  img = img.clip(0, 1)\n",
    "\n",
    "  return img"
   ]
  },
  {
   "cell_type": "code",
   "execution_count": null,
   "metadata": {},
   "outputs": [],
   "source": [
    "fig, (ax1, ax2) = plt.subplots(1, 2, figsize=(20,10))\n",
    "ax1.imshow(im_convert(content))\n",
    "ax1.axis(\"off\")\n",
    "ax2.imshow(im_convert(style))\n",
    "ax2.axis(\"off\")"
   ]
  },
  {
   "cell_type": "markdown",
   "metadata": {},
   "source": [
    "# **Extract features**"
   ]
  },
  {
   "cell_type": "code",
   "execution_count": null,
   "metadata": {},
   "outputs": [],
   "source": [
    "def feature_extract(image, model):\n",
    "  \n",
    "  layers = {'0': 'conv1_1',\n",
    "            '5': 'conv2_1', \n",
    "            '10': 'conv3_1', \n",
    "            '19': 'conv4_1',\n",
    "            '21': 'conv4_2',  # Content Extraction\n",
    "            '28': 'conv5_1'}\n",
    "  \n",
    "  features = {}\n",
    "\n",
    "  for name, layer in model._modules.items():\n",
    "    image = layer(image)\n",
    "    if name in layers:\n",
    "      features[layers[name]] = image\n",
    "  print(image.shape)\n",
    "  return features"
   ]
  },
  {
   "cell_type": "code",
   "execution_count": null,
   "metadata": {},
   "outputs": [],
   "source": [
    "print(content.shape)\n",
    "content_features = feature_extract(content, vgg)\n",
    "style_features = feature_extract(style, vgg)"
   ]
  },
  {
   "cell_type": "markdown",
   "metadata": {},
   "source": [
    "# **Gram Matrix for extracting style**"
   ]
  },
  {
   "cell_type": "code",
   "execution_count": null,
   "metadata": {},
   "outputs": [],
   "source": [
    "def gram_matrix(tensor):\n",
    "    _, d, h, w = tensor.size()\n",
    "    tensor = tensor.view(d, h * w)\n",
    "    gram = torch.mm(tensor, tensor.t())\n",
    "    return gram"
   ]
  },
  {
   "cell_type": "code",
   "execution_count": null,
   "metadata": {},
   "outputs": [],
   "source": [
    "style_grams = {layer: gram_matrix(style_features[layer]) for layer in style_features}"
   ]
  },
  {
   "cell_type": "markdown",
   "metadata": {},
   "source": [
    "# **Defining weights for loss**"
   ]
  },
  {
   "cell_type": "code",
   "execution_count": null,
   "metadata": {},
   "outputs": [],
   "source": [
    "style_weights = {'conv1_1': 1.,\n",
    "                 'conv2_1': 0.75,\n",
    "                 'conv3_1': 0.2,\n",
    "                 'conv4_1': 0.2,\n",
    "                 'conv5_1': 0.2}\n",
    "\n",
    "content_weight = 1  # alpha\n",
    "style_weight = 1e6  # beta"
   ]
  },
  {
   "cell_type": "code",
   "execution_count": null,
   "metadata": {},
   "outputs": [],
   "source": [
    "target = content.clone().requires_grad_(True).to(device)"
   ]
  },
  {
   "cell_type": "markdown",
   "metadata": {},
   "source": [
    "# **Specifications for training**"
   ]
  },
  {
   "cell_type": "code",
   "execution_count": null,
   "metadata": {},
   "outputs": [],
   "source": [
    "show_every = 300\n",
    "optimizer = optim.Adam([target], lr=0.003)\n",
    "steps = 6000\n",
    "\n",
    "height, width, channels = im_convert(target).shape\n",
    "image_array = np.empty(shape=(300, height, width, channels))\n",
    "capture_frame = steps/300\n",
    "counter = 0"
   ]
  },
  {
   "cell_type": "markdown",
   "metadata": {},
   "source": [
    "# **Training**"
   ]
  },
  {
   "cell_type": "code",
   "execution_count": null,
   "metadata": {},
   "outputs": [],
   "source": [
    "for ii in range(1, steps+1):\n",
    "  target_features = feature_extract(target, vgg)\n",
    "  content_loss = torch.mean((target_features['conv4_2'] - content_features['conv4_2'])**2)\n",
    "  style_loss = 0\n",
    "  \n",
    "  for layer in style_weights:\n",
    "    target_feature = target_features[layer]\n",
    "    target_gram = gram_matrix(target_feature)\n",
    "    style_gram = style_grams[layer]\n",
    "    layer_style_loss = style_weights[layer] * torch.mean((target_gram - style_gram)**2)\n",
    "    _, d, h, w = target_feature.shape\n",
    "    style_loss += layer_style_loss / (d * h * w)\n",
    "  \n",
    "  total_loss = content_weight * content_loss + style_weight * style_loss\n",
    "  \n",
    "  optimizer.zero_grad()\n",
    "  total_loss.backward()\n",
    "  optimizer.step()\n",
    "  \n",
    "  if  ii % show_every == 0:\n",
    "    print('Total loss: ', total_loss.item())\n",
    "    print('Iteration: ', ii)\n",
    "    plt.imshow(im_convert(target))\n",
    "    plt.axis(\"off\")\n",
    "    plt.show()\n",
    "    \n",
    "  if ii % capture_frame == 0:\n",
    "    image_array[counter] = im_convert(target)\n",
    "    counter = counter + 1"
   ]
  },
  {
   "cell_type": "code",
   "execution_count": null,
   "metadata": {},
   "outputs": [],
   "source": [
    "fig, (ax1, ax2, ax3) = plt.subplots(1, 3, figsize=(20, 10))\n",
    "ax1.imshow(im_convert(content))\n",
    "ax1.axis('off')\n",
    "ax2.imshow(im_convert(style))\n",
    "ax2.axis('off')\n",
    "ax3.imshow(im_convert(target))\n",
    "ax3.axis('off')"
   ]
  },
  {
   "cell_type": "code",
   "execution_count": null,
   "metadata": {},
   "outputs": [],
   "source": [
    "import cv2 \n",
    "\n",
    "frame_height, frame_width, _ = im_convert(target).shape\n",
    "vid = cv2.VideoWriter('output.mp4', cv2.VideoWriter_fourcc(*'XVID'), 30, (frame_width, frame_height))\n",
    "\n",
    "for i in range(0, 300):\n",
    "  img = image_array[i]\n",
    "  img = img*255\n",
    "  img = np.array(img, dtype = np.uint8)\n",
    "  img = cv2.cvtColor(img, cv2.COLOR_BGR2RGB)\n",
    "  vid.write(img)\n",
    "\n",
    "vid.release()"
   ]
  },
  {
   "cell_type": "code",
   "execution_count": null,
   "metadata": {},
   "outputs": [],
   "source": [
    "from google.colab import files\n",
    "files.download('output.mp4')"
   ]
  }
 ],
 "metadata": {
  "interpreter": {
   "hash": "667eb7813a3c3828a19874a9fb6ab1b1a0c2b5a9dc4039b1840aa66d4f4aa146"
  },
  "kernelspec": {
   "display_name": "Python 3.8.8 64-bit ('base': conda)",
   "language": "python",
   "name": "python3"
  },
  "language_info": {
   "codemirror_mode": {
    "name": "ipython",
    "version": 3
   },
   "file_extension": ".py",
   "mimetype": "text/x-python",
   "name": "python",
   "nbconvert_exporter": "python",
   "pygments_lexer": "ipython3",
   "version": "3.8.8"
  },
  "orig_nbformat": 4
 },
 "nbformat": 4,
 "nbformat_minor": 2
}
